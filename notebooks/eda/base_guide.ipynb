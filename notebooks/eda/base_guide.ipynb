{
 "cells": [
  {
   "cell_type": "code",
   "execution_count": 37,
   "metadata": {},
   "outputs": [
    {
     "data": {
      "text/html": [
       "<pre style=\"white-space:pre;overflow-x:auto;line-height:normal;font-family:Menlo,'DejaVu Sans Mono',consolas,'Courier New',monospace\"><span style=\"color: #800000; text-decoration-color: #800000; background-color: #c0c0c0; font-weight: bold\">Hello, world!</span>\n",
       "</pre>\n"
      ],
      "text/plain": [
       "\u001b[1;31;47mHello, world!\u001b[0m\n"
      ]
     },
     "metadata": {},
     "output_type": "display_data"
    }
   ],
   "source": [
    "from rich.console import Console\n",
    "from rich import traceback\n",
    "import importlib\n",
    "\n",
    "console = Console()\n",
    "traceback.install(theme=\"dracula\", show_locals=True)\n",
    "\n",
    "console.print(\"Hello, world!\", style=\"bold red on white\")"
   ]
  }
 ],
 "metadata": {
  "kernelspec": {
   "display_name": ".venv",
   "language": "python",
   "name": "python3"
  },
  "language_info": {
   "codemirror_mode": {
    "name": "ipython",
    "version": 3
   },
   "file_extension": ".py",
   "mimetype": "text/x-python",
   "name": "python",
   "nbconvert_exporter": "python",
   "pygments_lexer": "ipython3",
   "version": "3.10.6"
  },
  "orig_nbformat": 4,
  "vscode": {
   "interpreter": {
    "hash": "fa9fa6d5e72bdc088c058e18b7f2673d7a3239e120b3f31eac23b290a14a8912"
   }
  }
 },
 "nbformat": 4,
 "nbformat_minor": 2
}
